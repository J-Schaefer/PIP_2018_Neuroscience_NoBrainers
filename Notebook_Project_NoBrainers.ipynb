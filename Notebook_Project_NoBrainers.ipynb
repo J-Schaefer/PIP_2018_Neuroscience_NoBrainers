{
 "cells": [
  {
   "cell_type": "markdown",
   "metadata": {},
   "source": [
    "# Pre stuff\n",
    "Importing libraries, loading and visualising data."
   ]
  },
  {
   "cell_type": "code",
   "execution_count": 1,
   "metadata": {},
   "outputs": [],
   "source": [
    "import mne\n",
    "\n",
    "from mne.decoding import Vectorizer\n",
    "\n",
    "from sklearn.preprocessing import StandardScaler\n",
    "from sklearn.pipeline import make_pipeline\n",
    "from sklearn.model_selection import cross_val_score\n",
    "from sklearn import svm\n",
    "from sklearn.model_selection import train_test_split"
   ]
  },
  {
   "cell_type": "code",
   "execution_count": 21,
   "metadata": {},
   "outputs": [
    {
     "name": "stdout",
     "output_type": "stream",
     "text": [
      "This filename (data/817_1_PDDys_ODDBALL_Clean_curated.fif) does not conform to MNE naming conventions. All epochs files should end with -epo.fif, -epo.fif.gz, _epo.fif or _epo.fif.gz\n",
      "Reading data/817_1_PDDys_ODDBALL_Clean_curated.fif ...\n",
      "    Found the data of interest:\n",
      "        t =    -100.00 ...     500.00 ms\n",
      "        0 CTF compensation matrices available\n",
      "189 matching events found\n",
      "No baseline correction applied\n"
     ]
    },
    {
     "name": "stderr",
     "output_type": "stream",
     "text": [
      "<ipython-input-21-fe22cab9f260>:8: RuntimeWarning: This filename (data/817_1_PDDys_ODDBALL_Clean_curated.fif) does not conform to MNE naming conventions. All epochs files should end with -epo.fif, -epo.fif.gz, _epo.fif or _epo.fif.gz\n",
      "  epochs = mne.read_epochs(filename + '.fif')\n"
     ]
    },
    {
     "name": "stdout",
     "output_type": "stream",
     "text": [
      "189 matching events found\n",
      "No baseline correction applied\n",
      "Not setting metadata\n",
      "0 projection items activated\n"
     ]
    }
   ],
   "source": [
    "# Folder & files containing the data:\n",
    "data_path = 'data/'\n",
    "data_file = '817_1_PDDys_ODDBALL_Clean_curated'\n",
    "\n",
    "filename = data_path + data_file\n",
    "\n",
    "# We read the EEG epochs:\n",
    "epochs = mne.read_epochs(filename + '.fif')\n",
    "\n",
    "num_filter = 10"
   ]
  },
  {
   "cell_type": "code",
   "execution_count": 3,
   "metadata": {
    "scrolled": true
   },
   "outputs": [
    {
     "data": {
      "text/plain": [
       "<Info | 18 non-empty fields\n",
       "    bads : list | 0 items\n",
       "    ch_names : list | Fp1, Fz, F3, F7, FC5, FC1, C3, T7, CP5, ...\n",
       "    chs : list | 60 items (EEG: 60)\n",
       "    comps : list | 0 items\n",
       "    custom_ref_applied : bool | False\n",
       "    dev_head_t : Transform | 3 items\n",
       "    dig : list | 60 items\n",
       "    events : list | 0 items\n",
       "    file_id : dict | 4 items\n",
       "    highpass : float | 0.0 Hz\n",
       "    hpi_meas : list | 0 items\n",
       "    hpi_results : list | 0 items\n",
       "    lowpass : float | 250.0 Hz\n",
       "    meas_id : dict | 4 items\n",
       "    nchan : int | 60\n",
       "    proc_history : list | 0 items\n",
       "    projs : list | 0 items\n",
       "    sfreq : float | 500.0 Hz\n",
       "    acq_pars : NoneType\n",
       "    acq_stim : NoneType\n",
       "    ctf_head_t : NoneType\n",
       "    description : NoneType\n",
       "    dev_ctf_t : NoneType\n",
       "    experimenter : NoneType\n",
       "    gantry_angle : NoneType\n",
       "    hpi_subsystem : NoneType\n",
       "    kit_system_id : NoneType\n",
       "    line_freq : NoneType\n",
       "    meas_date : NoneType\n",
       "    proj_id : NoneType\n",
       "    proj_name : NoneType\n",
       "    subject_info : NoneType\n",
       "    xplotter_layout : NoneType\n",
       ">"
      ]
     },
     "execution_count": 3,
     "metadata": {},
     "output_type": "execute_result"
    }
   ],
   "source": [
    "epochs.info"
   ]
  },
  {
   "cell_type": "code",
   "execution_count": 4,
   "metadata": {
    "scrolled": true
   },
   "outputs": [
    {
     "data": {
      "text/plain": [
       "array([[[ 3.52394723e-06,  2.06192612e-06,  4.46908902e-06, ...,\n",
       "          2.96665620e-06,  2.16401624e-06,  1.87072610e-06],\n",
       "        [ 4.50709437e-06,  4.35066937e-06,  6.42107294e-06, ...,\n",
       "          3.37508463e-06,  3.61751079e-06,  7.65960632e-07],\n",
       "        [-1.29490099e-05,  1.14769172e-06,  7.53064344e-06, ...,\n",
       "          9.18080709e-06,  9.31064699e-06,  7.09726427e-06],\n",
       "        ...,\n",
       "        [ 4.06841724e-07,  2.90893554e-06,  4.71284770e-06, ...,\n",
       "          9.70285413e-06,  6.65089987e-06,  5.53862809e-06],\n",
       "        [-3.15314721e-06, -3.34791898e-06,  2.23534035e-06, ...,\n",
       "          6.38878630e-06,  3.25191187e-06, -5.72537182e-07],\n",
       "        [ 5.18393038e-06,  3.53263568e-06,  3.91299509e-06, ...,\n",
       "         -8.49513529e-06, -8.71153162e-06, -9.73261926e-06]],\n",
       "\n",
       "       [[ 1.03230610e-05,  6.71308611e-06,  4.06666993e-06, ...,\n",
       "          1.60698795e-05,  9.03341291e-06,  8.83130644e-06],\n",
       "        [ 1.22205867e-05,  1.32242498e-05,  1.39072570e-05, ...,\n",
       "          2.48241805e-06,  8.66339622e-07, -5.29771297e-09],\n",
       "        [ 7.74005351e-07, -4.80707078e-07, -3.28652357e-06, ...,\n",
       "          1.72201347e-06, -9.51441107e-07, -3.36320709e-06],\n",
       "        ...,\n",
       "        [ 1.53903246e-05,  1.21795864e-05,  1.69044094e-05, ...,\n",
       "          8.39852045e-06,  7.27850435e-06,  9.74975870e-06],\n",
       "        [ 1.56856069e-05,  1.03292923e-05,  1.42314958e-05, ...,\n",
       "          3.44110536e-06,  3.37450444e-07,  2.12481796e-07],\n",
       "        [ 7.00323342e-07,  1.77255082e-06,  2.47690582e-06, ...,\n",
       "          1.92188668e-06,  4.33095120e-06,  4.33643435e-06]],\n",
       "\n",
       "       [[-7.90757893e-06, -6.41425322e-06, -4.99897240e-06, ...,\n",
       "          7.15977476e-06,  6.90896557e-06,  8.13846491e-06],\n",
       "        [-4.97509335e-06, -4.50418805e-06, -4.84717177e-06, ...,\n",
       "         -2.85520982e-06, -1.80744409e-06,  3.06645184e-07],\n",
       "        [-2.37636017e-06,  1.05991602e-06, -1.91222637e-07, ...,\n",
       "         -7.86958025e-06,  9.66052560e-08, -4.22014861e-07],\n",
       "        ...,\n",
       "        [-9.19860456e-06, -3.30626845e-06,  4.85999315e-07, ...,\n",
       "         -1.35802281e-06,  6.26530789e-06,  1.24939899e-05],\n",
       "        [-4.02290534e-06, -4.05331134e-06, -4.03388738e-06, ...,\n",
       "         -1.94528722e-06,  4.60937928e-06,  6.56216477e-06],\n",
       "        [ 8.32003401e-06,  7.33021019e-06,  6.97362230e-06, ...,\n",
       "         -5.11491059e-06, -6.12723873e-06, -9.30644796e-06]],\n",
       "\n",
       "       ...,\n",
       "\n",
       "       [[ 7.66627608e-07,  1.85127997e-06,  2.79072928e-06, ...,\n",
       "          1.23504343e-05,  1.49156437e-05,  1.19606943e-05],\n",
       "        [-3.58686852e-06, -5.21532630e-06, -5.18301295e-06, ...,\n",
       "          4.28820466e-06,  6.08529900e-06,  7.65779255e-06],\n",
       "        [-8.59183011e-07, -6.40192555e-06, -7.96902988e-06, ...,\n",
       "          8.54929159e-06,  1.14756984e-05,  8.11411093e-06],\n",
       "        ...,\n",
       "        [ 1.76814985e-06,  1.27038932e-06,  1.41730457e-07, ...,\n",
       "          1.73962955e-05,  1.59188947e-05,  1.67247238e-05],\n",
       "        [-1.40930593e-06, -3.74432134e-06, -5.17148064e-06, ...,\n",
       "          5.60370444e-06,  6.07668064e-06,  9.11481283e-06],\n",
       "        [-3.36583280e-06, -4.13902902e-06, -3.67095207e-06, ...,\n",
       "         -1.25045423e-05, -1.10720033e-05, -1.17513036e-05]],\n",
       "\n",
       "       [[ 1.04348745e-05,  1.09827041e-05,  1.22484207e-05, ...,\n",
       "         -1.19658827e-07, -2.19482636e-06,  3.76273870e-06],\n",
       "        [ 5.56443833e-06,  6.43755101e-06,  7.80742834e-06, ...,\n",
       "         -3.37614321e-06, -3.63741993e-06,  3.30877232e-06],\n",
       "        [ 4.29039906e-06, -4.57112263e-06, -1.12819996e-05, ...,\n",
       "         -6.80825184e-06, -1.54155302e-05,  2.29101872e-06],\n",
       "        ...,\n",
       "        [ 5.34281586e-06,  8.05091665e-06,  6.65675829e-06, ...,\n",
       "         -1.86854972e-05, -1.60671253e-05,  7.83597825e-07],\n",
       "        [ 5.77182387e-06,  7.22913168e-06,  6.72728012e-06, ...,\n",
       "         -1.16876287e-05, -1.15131902e-05, -2.59670948e-06],\n",
       "        [ 7.58760689e-06,  9.02477739e-06,  8.19658754e-06, ...,\n",
       "          5.23059224e-06,  5.05487107e-06,  1.33511650e-06]],\n",
       "\n",
       "       [[-7.26026009e-06, -3.73236369e-06, -4.28246211e-06, ...,\n",
       "          4.71448706e-06,  5.07393025e-06,  3.15003466e-06],\n",
       "        [-6.76479862e-06, -6.12364529e-06, -7.05548475e-06, ...,\n",
       "          3.52482628e-06,  4.32331895e-06,  2.86073732e-06],\n",
       "        [-1.22703485e-05, -1.12009020e-05, -2.13913440e-05, ...,\n",
       "          3.64293598e-06,  2.22361707e-06,  6.41160582e-06],\n",
       "        ...,\n",
       "        [-4.43332814e-06, -7.16039417e-06, -8.45279787e-06, ...,\n",
       "         -3.04982304e-06, -2.39324688e-06,  4.07727539e-07],\n",
       "        [-5.15243958e-06, -4.44171141e-06, -6.28362845e-06, ...,\n",
       "         -3.66096448e-06, -1.29508722e-06,  6.31595014e-07],\n",
       "        [ 2.27837037e-06,  2.83543658e-06,  2.97711109e-06, ...,\n",
       "          4.94639777e-06,  6.56041621e-06,  9.14766691e-06]]])"
      ]
     },
     "execution_count": 4,
     "metadata": {},
     "output_type": "execute_result"
    }
   ],
   "source": [
    "# The data can be accessed via:\n",
    "epochs._data"
   ]
  },
  {
   "cell_type": "code",
   "execution_count": 5,
   "metadata": {},
   "outputs": [
    {
     "data": {
      "text/plain": [
       "<bound method BaseEpochs.plot of <EpochsFIF  |   189 events (all good), -0.1 - 0.5 sec, baseline off, ~26.2 MB, data loaded,\n",
       " 'Novel': 30\n",
       " 'Standard': 130\n",
       " 'Target': 29>>"
      ]
     },
     "execution_count": 5,
     "metadata": {},
     "output_type": "execute_result"
    }
   ],
   "source": [
    "epochs.plot"
   ]
  },
  {
   "cell_type": "code",
   "execution_count": 7,
   "metadata": {},
   "outputs": [
    {
     "name": "stdout",
     "output_type": "stream",
     "text": [
      "10\n"
     ]
    }
   ],
   "source": [
    "# save original data multiple times to apply different filters to it without altering the original data\n",
    "multi_epochs = [epochs] * num_filter\n",
    "print(len(multi_epochs))"
   ]
  },
  {
   "cell_type": "code",
   "execution_count": 8,
   "metadata": {},
   "outputs": [
    {
     "name": "stdout",
     "output_type": "stream",
     "text": [
      "Events = \n",
      "[[  1001      0    201]\n",
      " [  2680      0    201]\n",
      " [  4019      0    201]\n",
      " [  6379      0    201]\n",
      " [  8291      0    201]\n",
      " [ 10297      0    200]\n",
      " [ 12592      0    201]\n",
      " [ 14380      0    201]\n",
      " [ 16383      0    201]\n",
      " [ 18261      0    201]\n",
      " [ 20287      0    200]\n",
      " [ 22321      0    201]\n",
      " [ 24411      0    201]\n",
      " [ 26467      0    200]\n",
      " [ 28488      0    201]\n",
      " [ 30443      0    201]\n",
      " [ 32442      0    201]\n",
      " [ 34420      0    200]\n",
      " [ 36299      0    201]\n",
      " [ 38318      0    201]\n",
      " [ 40502      0    201]\n",
      " [ 44480      0    201]\n",
      " [ 46321      0    201]\n",
      " [ 50342      0    201]\n",
      " [ 52490      0    201]\n",
      " [ 56344      0    201]\n",
      " [ 58291      0    201]\n",
      " [ 60400      0    200]\n",
      " [ 62414      0    201]\n",
      " [ 64419      0    201]\n",
      " [ 68433      0    201]\n",
      " [ 72295      0    201]\n",
      " [ 74403      0    201]\n",
      " [ 76308      0    201]\n",
      " [ 78312      0    200]\n",
      " [ 80345      0    201]\n",
      " [ 82478      0    201]\n",
      " [ 86437      0    201]\n",
      " [ 88335      0    200]\n",
      " [ 90332      0    201]\n",
      " [ 92268      0    201]\n",
      " [ 96481      0    201]\n",
      " [100483      0    201]\n",
      " [102293      0    201]\n",
      " [105001      0    200]\n",
      " [106355      0    201]\n",
      " [108297      0    201]\n",
      " [112385      0    201]\n",
      " [114335      0    200]\n",
      " [116305      0    201]\n",
      " [118319      0    201]\n",
      " [122387      0    201]\n",
      " [125001      0    201]\n",
      " [126425      0    201]\n",
      " [128317      0    201]\n",
      " [130494      0    200]\n",
      " [132258      0    201]\n",
      " [134411      0    201]\n",
      " [136242      0    201]\n",
      " [140388      0    201]\n",
      " [142413      0    201]\n",
      " [144412      0    200]\n",
      " [146249      0    201]\n",
      " [148384      0    201]\n",
      " [152480      0    201]\n",
      " [154502      0    201]\n",
      " [156449      0    201]\n",
      " [158444      0    200]\n",
      " [160303      0    201]\n",
      " [162519      0    201]\n",
      " [166342      0    201]\n",
      " [168433      0    201]\n",
      " [170497      0    200]\n",
      " [172297      0    201]\n",
      " [174371      0    201]\n",
      " [176371      0    201]\n",
      " [178304      0    201]\n",
      " [180294      0    200]\n",
      " [182268      0    201]\n",
      " [184389      0    201]\n",
      " [188292      0    201]\n",
      " [192481      0    201]\n",
      " [194450      0    200]\n",
      " [197001      0    201]\n",
      " [198709      0    201]\n",
      " [200207      0    201]\n",
      " [202353      0    200]\n",
      " [204607      0    201]\n",
      " [206287      0    201]\n",
      " [208477      0    201]\n",
      " [211001      0    201]\n",
      " [212424      0    200]\n",
      " [214455      0    201]\n",
      " [216370      0    201]\n",
      " [220435      0    201]\n",
      " [222385      0    201]\n",
      " [224434      0    201]\n",
      " [226490      0    201]\n",
      " [228371      0    200]\n",
      " [230270      0    201]\n",
      " [232408      0    201]\n",
      " [236343      0    201]\n",
      " [238405      0    200]\n",
      " [240328      0    201]\n",
      " [242304      0    201]\n",
      " [246245      0    201]\n",
      " [249001      0    200]\n",
      " [250428      0    201]\n",
      " [252393      0    201]\n",
      " [256387      0    201]\n",
      " [258356      0    201]\n",
      " [260418      0    200]\n",
      " [262468      0    201]\n",
      " [264492      0    201]\n",
      " [268344      0    201]\n",
      " [270419      0    201]\n",
      " [272310      0    201]\n",
      " [276291      0    201]\n",
      " [280479      0    201]\n",
      " [282457      0    201]\n",
      " [284427      0    201]\n",
      " [286285      0    200]\n",
      " [288317      0    201]\n",
      " [290396      0    201]\n",
      " [292434      0    201]\n",
      " [294387      0    200]\n",
      " [296260      0    201]\n",
      " [298455      0    201]\n",
      " [302481      0    201]\n",
      " [304425      0    201]\n",
      " [306462      0    200]\n",
      " [308477      0    201]\n",
      " [312292      0    201]\n",
      " [315001      0    201]\n",
      " [316516      0    200]\n",
      " [320242      0    201]\n",
      " [322359      0    200]\n",
      " [324388      0    201]\n",
      " [326306      0    201]\n",
      " [328479      0    201]\n",
      " [330317      0    201]\n",
      " [332499      0    201]\n",
      " [334282      0    200]\n",
      " [336349      0    201]\n",
      " [338334      0    201]\n",
      " [340264      0    201]\n",
      " [342435      0    200]\n",
      " [344307      0    201]\n",
      " [346434      0    201]\n",
      " [348440      0    201]\n",
      " [352477      0    201]\n",
      " [354385      0    201]\n",
      " [358291      0    201]\n",
      " [360339      0    201]\n",
      " [364342      0    201]\n",
      " [366494      0    201]\n",
      " [370385      0    201]\n",
      " [374386      0    201]\n",
      " [376263      0    200]\n",
      " [423977      0    202]\n",
      " [429872      0    202]\n",
      " [435985      0    202]\n",
      " [447935      0    202]\n",
      " [451880      0    202]\n",
      " [465945      0    202]\n",
      " [475896      0    202]\n",
      " [479981      0    202]\n",
      " [491781      0    202]\n",
      " [501784      0    202]\n",
      " [519789      0    202]\n",
      " [531924      0    202]\n",
      " [545857      0    202]\n",
      " [568003      0    202]\n",
      " [571973      0    202]\n",
      " [599901      0    202]\n",
      " [615954      0    202]\n",
      " [625827      0    202]\n",
      " [635998      0    202]\n",
      " [647962      0    202]\n",
      " [655835      0    202]\n",
      " [659848      0    202]\n",
      " [681855      0    202]\n",
      " [691957      0    202]\n",
      " [699790      0    202]\n",
      " [731825      0    202]\n",
      " [737955      0    202]\n",
      " [743799      0    202]\n",
      " [749915      0    202]\n",
      " [753854      0    202]]\n"
     ]
    }
   ],
   "source": [
    "events = epochs.events\n",
    "print('Events = ')\n",
    "print(events)"
   ]
  },
  {
   "cell_type": "code",
   "execution_count": 11,
   "metadata": {},
   "outputs": [
    {
     "data": {
      "text/plain": [
       "{'Standard': 201, 'Target': 200, 'Novel': 202}"
      ]
     },
     "execution_count": 11,
     "metadata": {},
     "output_type": "execute_result"
    }
   ],
   "source": [
    "epochs.event_id"
   ]
  },
  {
   "cell_type": "markdown",
   "metadata": {},
   "source": [
    "# Preprocessing"
   ]
  },
  {
   "cell_type": "markdown",
   "metadata": {},
   "source": [
    "## Analysing the data (Max)"
   ]
  },
  {
   "cell_type": "code",
   "execution_count": null,
   "metadata": {},
   "outputs": [],
   "source": []
  },
  {
   "cell_type": "markdown",
   "metadata": {},
   "source": [
    "## Filtering the data (Julie and Georgi)"
   ]
  },
  {
   "cell_type": "code",
   "execution_count": null,
   "metadata": {},
   "outputs": [],
   "source": []
  },
  {
   "cell_type": "markdown",
   "metadata": {},
   "source": [
    "# Applying Machine Learning"
   ]
  },
  {
   "cell_type": "code",
   "execution_count": 52,
   "metadata": {
    "scrolled": true
   },
   "outputs": [
    {
     "name": "stdout",
     "output_type": "stream",
     "text": [
      "\n",
      "Length of data:\n",
      "10\n",
      "Length of labels:\n",
      "189\n"
     ]
    }
   ],
   "source": [
    "# get the data\n",
    "all_data = [] # create empty list\n",
    "for epochs_i in multi_epochs:\n",
    "    all_data.append(epochs_i._data) # append new data object to list\n",
    "\n",
    "# get the labels\n",
    "labels = epochs.events[:,-1]\n",
    "\n",
    "print()\n",
    "print('Length of data:')\n",
    "print(len(all_data))\n",
    "#print('Data:')\n",
    "#print(all_data)\n",
    "print('Length of labels:')\n",
    "print(len(labels))"
   ]
  },
  {
   "cell_type": "code",
   "execution_count": 42,
   "metadata": {},
   "outputs": [],
   "source": [
    "# create pipeline to execute multiple steps in a row\n",
    "clf = [make_pipeline(Vectorizer(), StandardScaler(),\n",
    "                    svm.SVC(kernel='linear',C=1))] * num_filter"
   ]
  },
  {
   "cell_type": "code",
   "execution_count": 55,
   "metadata": {},
   "outputs": [
    {
     "name": "stdout",
     "output_type": "stream",
     "text": [
      "Step 1 / 10\n",
      "Step 2 / 10\n",
      "Step 3 / 10\n",
      "Step 4 / 10\n",
      "Step 5 / 10\n",
      "Step 6 / 10\n",
      "Step 7 / 10\n",
      "Step 8 / 10\n",
      "Step 9 / 10\n",
      "Step 10 / 10\n"
     ]
    }
   ],
   "source": [
    "for counter, clf_i in enumerate(clf):\n",
    "    print('Step', counter+1, '/', len(all_data))\n",
    "    data_train, data_test, labels_train, labels_test = train_test_split(all_data[counter], labels, test_size=0.4, random_state=0)\n",
    "    clf_i.fit(data_train, labels_train) # apply pipelined steps\n",
    "    clf_i.score(data_train,labels_train)"
   ]
  },
  {
   "cell_type": "code",
   "execution_count": null,
   "metadata": {},
   "outputs": [],
   "source": []
  },
  {
   "cell_type": "code",
   "execution_count": null,
   "metadata": {},
   "outputs": [],
   "source": []
  }
 ],
 "metadata": {
  "kernelspec": {
   "display_name": "Python [conda env:pip2018ml]",
   "language": "python",
   "name": "conda-env-pip2018ml-py"
  },
  "language_info": {
   "codemirror_mode": {
    "name": "ipython",
    "version": 3
   },
   "file_extension": ".py",
   "mimetype": "text/x-python",
   "name": "python",
   "nbconvert_exporter": "python",
   "pygments_lexer": "ipython3",
   "version": "3.6.6"
  }
 },
 "nbformat": 4,
 "nbformat_minor": 2
}
